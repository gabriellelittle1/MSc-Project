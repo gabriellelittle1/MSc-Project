{
 "cells": [
  {
   "cell_type": "code",
   "execution_count": 9,
   "metadata": {},
   "outputs": [],
   "source": [
    "# import openpyxl module \n",
    "import openpyxl\n",
    "from PIL import Image\n",
    "import requests\n",
    "from transformers import AutoProcessor, AutoModel\n",
    "import torch\n",
    "import matplotlib.pyplot as plt\n",
    "import numpy as np\n",
    "\n",
    "# SigLIP model\n",
    "model = AutoModel.from_pretrained(\"google/siglip-base-patch16-224\")\n",
    "processor = AutoProcessor.from_pretrained(\"google/siglip-base-patch16-224\")\n",
    "  \n",
    "# Give the location of the file \n",
    "path = \"/Users/gabriellelittlefair/Documents/GitHub/MSc Project/Evaluation_Experiment/experiment.xlsx\"\n",
    "wb_obj = openpyxl.load_workbook(path) \n",
    "sheet_obj = wb_obj.active \n",
    "\n",
    "row = sheet_obj.max_row \n",
    "column = sheet_obj.max_column "
   ]
  },
  {
   "cell_type": "code",
   "execution_count": 10,
   "metadata": {},
   "outputs": [],
   "source": [
    "texts1 = [\"a plan for a good layout of a bedroom\", \"a plan for a bad layout of a bedroom\", \"a plan for a layout of a bedroom\"]\n",
    "def SigLip_vals(filepath, texts):\n",
    "    image = Image.open(filepath).convert('RGB')\n",
    "    inputs = processor(text=texts, images=image, padding=\"max_length\", return_tensors=\"pt\")\n",
    "    with torch.no_grad():\n",
    "        outputs = model(**inputs)\n",
    "    logits_per_image = outputs.logits_per_image\n",
    "    probs = torch.sigmoid(logits_per_image) # these are the probabilities\n",
    "    \n",
    "    return probs.numpy()[0]"
   ]
  },
  {
   "cell_type": "code",
   "execution_count": 13,
   "metadata": {},
   "outputs": [],
   "source": [
    "## SigLIP \n",
    "row = 25\n",
    "texts1 = [\"a plan for a good layout of a bedroom\", \"a plan for a bad layout of a bedroom\", \"a plan for a layout of a bedroom\"]\n",
    "texts2 = [\"a plan for a good layout of a bedroom\", \"a plan for a bad layout of a bedroom\", \"a plan for a layout of a bedroom\"]\n",
    "texts3 = [\"a top down view of a bedroom with a good layout\", \"a top down view of a bedroom with a bad layout\", \"a top down view of a bedroom with a layout\"]\n",
    "texts4 = [\"a bedroom with a good layout\", \"a bedroom with a bad layout\", \"a bedroom with a layout\"]\n",
    "for i in range(1, row):\n",
    "    \n",
    "    v1 = SigLip_vals(\"/Users/gabriellelittlefair/Documents/GitHub/MSc Project/Evaluation_Experiment/bounding_boxes/bb_\" + f\"{i}.png\", texts1)\n",
    "    v2 = SigLip_vals(\"/Users/gabriellelittlefair/Documents/GitHub/MSc Project/Evaluation_Experiment/2Dtd/2Dtd_\" + f\"{i}.png\", texts2)\n",
    "    v3 = SigLip_vals(\"/Users/gabriellelittlefair/Documents/GitHub/MSc Project/Evaluation_Experiment/3Dtd/3Dtd_\" + f\"{i}.png\", texts3)\n",
    "    v4 = SigLip_vals(\"/Users/gabriellelittlefair/Documents/GitHub/MSc Project/Evaluation_Experiment/angled_view/av_\" + f\"{i}.png\", texts4)\n",
    "    sheet_obj.cell(row=i + 1, column=4).value = v1[0]\n",
    "    sheet_obj.cell(row=i + 1, column=8).value = v2[0]\n",
    "    sheet_obj.cell(row=i + 1, column=12).value = v3[0]\n",
    "    sheet_obj.cell(row=i + 1, column=16).value = v4[0]\n",
    "    sheet_obj.cell(row=i + 1, column=5).value = v1[1]\n",
    "    sheet_obj.cell(row=i + 1, column=9).value = v2[1]\n",
    "    sheet_obj.cell(row=i + 1, column=13).value = v3[1]\n",
    "    sheet_obj.cell(row=i + 1, column=17).value = v4[1]\n",
    "    sheet_obj.cell(row=i + 1, column=6).value = v1[2]\n",
    "    sheet_obj.cell(row=i + 1, column=10).value = v2[2]\n",
    "    sheet_obj.cell(row=i + 1, column=14).value = v3[2]\n",
    "    sheet_obj.cell(row=i + 1, column=18).value = v4[2]\n",
    "\n",
    "wb_obj.save(\"/Users/gabriellelittlefair/Documents/GitHub/MSc Project/Evaluation_Experiment/experiment.xlsx\")"
   ]
  }
 ],
 "metadata": {
  "kernelspec": {
   "display_name": "MV00",
   "language": "python",
   "name": "python3"
  },
  "language_info": {
   "codemirror_mode": {
    "name": "ipython",
    "version": 3
   },
   "file_extension": ".py",
   "mimetype": "text/x-python",
   "name": "python",
   "nbconvert_exporter": "python",
   "pygments_lexer": "ipython3",
   "version": "3.9.16"
  }
 },
 "nbformat": 4,
 "nbformat_minor": 2
}
